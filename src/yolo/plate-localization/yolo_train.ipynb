{
 "cells": [
  {
   "cell_type": "code",
   "execution_count": null,
   "metadata": {
    "colab": {
     "base_uri": "https://localhost:8080/",
     "height": 122
    },
    "id": "28JxCefhiKHa",
    "outputId": "8a6cf130-29ee-4570-8954-53c089df7188"
   },
   "outputs": [],
   "source": [
    "from google.colab import drive\n",
    "\n",
    "drive.mount('/content/drive')"
   ]
  },
  {
   "cell_type": "code",
   "execution_count": null,
   "metadata": {
    "colab": {
     "base_uri": "https://localhost:8080/",
     "height": 85
    },
    "id": "TsbXLgMIiQS1",
    "outputId": "483fd2b3-2cec-4e70-b377-a78b74cf26db"
   },
   "outputs": [],
   "source": [
    "!nvcc --version"
   ]
  },
  {
   "cell_type": "code",
   "execution_count": null,
   "metadata": {
    "colab": {
     "base_uri": "https://localhost:8080/",
     "height": 1000
    },
    "id": "OZiZkkZQic44",
    "outputId": "5aa19e60-d609-4872-fcd5-7835447598e2"
   },
   "outputs": [],
   "source": [
    "!unzip \"/content/drive/My Drive/darknet.zip\"\n"
   ]
  },
  {
   "cell_type": "code",
   "execution_count": null,
   "metadata": {
    "colab": {
     "base_uri": "https://localhost:8080/",
     "height": 70
    },
    "id": "Qtfg7jrhifUZ",
    "outputId": "1adc2f08-194e-4524-e51d-74475d93bbd0"
   },
   "outputs": [],
   "source": [
    "%cd /content/darknet\n",
    "!make\n",
    "!chmod +x ./darknet"
   ]
  },
  {
   "cell_type": "code",
   "execution_count": null,
   "metadata": {
    "id": "BJR9-oPcilBC"
   },
   "outputs": [],
   "source": [
    "!rm /content/darknet/build/darknet/x64/backup -r\n",
    "!rm /content/darknet/backup -r"
   ]
  },
  {
   "cell_type": "code",
   "execution_count": null,
   "metadata": {
    "id": "OHojtw7ui3j3"
   },
   "outputs": [],
   "source": [
    "!ln -s /content/drive/'My Drive'/yolov4/backup /content/darknet/build/darknet/x64"
   ]
  },
  {
   "cell_type": "code",
   "execution_count": null,
   "metadata": {
    "colab": {
     "base_uri": "https://localhost:8080/",
     "height": 442
    },
    "id": "3Ea5Wzf5jKLY",
    "outputId": "154d803d-331d-4799-81bf-9488ce2affb3"
   },
   "outputs": [],
   "source": [
    "!sudo apt install dos2unix"
   ]
  },
  {
   "cell_type": "code",
   "execution_count": null,
   "metadata": {
    "colab": {
     "base_uri": "https://localhost:8080/",
     "height": 105
    },
    "id": "MoIW0qSljMyq",
    "outputId": "61f3c5d9-1127-483a-cdce-3316e0dbcc31"
   },
   "outputs": [],
   "source": [
    "!dos2unix ./build/darknet/x64/data/train.txt\n",
    "!dos2unix ./build/darknet/x64/data/val.txt\n",
    "!dos2unix ./build/darknet/x64/data/yolo.data\n",
    "!dos2unix ./build/darknet/x64/data/yolo.names\n",
    "!dos2unix ./build/darknet/x64/cfg/yolov4_lp.cfg"
   ]
  },
  {
   "cell_type": "code",
   "execution_count": null,
   "metadata": {
    "colab": {
     "base_uri": "https://localhost:8080/",
     "height": 152
    },
    "id": "w_XlZN2Qjii2",
    "outputId": "1a380c99-7983-440a-de09-eef007a91e34"
   },
   "outputs": [],
   "source": [
    "% cd /content\n",
    "!darknet/darknet detector train darknet/build/darknet/x64/data/yolo.data darknet/build/darknet/x64/cfg/yolov4_lp.cfg darknet/build/darknet/x64/backup/yolov4_lp_last.weights -dont_show"
   ]
  },
  {
   "cell_type": "code",
   "execution_count": null,
   "metadata": {
    "id": "pp9mds58kORm"
   },
   "outputs": [],
   "source": [
    "darknet/darknet detector valid darknet/build/darknet/x64/data/yolo.data darknet/build/darknet/x64/cfg/yolov4_lp.cfg darknet/build/darknet/x64/backup/yolov4_lp_last.weights darknet/build/darknet/x64/data/obj/img-986.jpg"
   ]
  }
 ],
 "metadata": {
  "accelerator": "GPU",
  "colab": {
   "collapsed_sections": [],
   "name": "yolo-train",
   "provenance": []
  },
  "kernelspec": {
   "display_name": "Python 3",
   "language": "python",
   "name": "python3"
  },
  "language_info": {
   "codemirror_mode": {
    "name": "ipython",
    "version": 3
   },
   "file_extension": ".py",
   "mimetype": "text/x-python",
   "name": "python",
   "nbconvert_exporter": "python",
   "pygments_lexer": "ipython3",
   "version": "3.9.1"
  }
 },
 "nbformat": 4,
 "nbformat_minor": 1
}
