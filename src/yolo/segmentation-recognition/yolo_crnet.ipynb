{
 "cells": [
  {
   "cell_type": "code",
   "execution_count": null,
   "metadata": {
    "colab": {
     "base_uri": "https://localhost:8080/",
     "height": 122
    },
    "id": "v7x1DxvIY8Aw",
    "outputId": "b35f5129-8844-403b-f99f-356148f4fc85"
   },
   "outputs": [],
   "source": [
    "from google.colab import drive\n",
    "\n",
    "drive.mount('/content/drive', force_remount = True)"
   ]
  },
  {
   "cell_type": "code",
   "execution_count": null,
   "metadata": {
    "colab": {
     "base_uri": "https://localhost:8080/",
     "height": 1000
    },
    "id": "IhKyD_XGZC0I",
    "outputId": "3b84318d-b641-45de-e616-964265e164e2"
   },
   "outputs": [],
   "source": [
    "!unzip \"/content/drive/My Drive/darknet-v4.zip\""
   ]
  },
  {
   "cell_type": "code",
   "execution_count": null,
   "metadata": {
    "colab": {
     "base_uri": "https://localhost:8080/",
     "height": 1000
    },
    "id": "dWwiZpkgZPbw",
    "outputId": "9b242bf0-2c4f-42e9-810b-92d772f8eaed"
   },
   "outputs": [],
   "source": [
    "%cd /content/darknet\n",
    "!make\n",
    "!chmod +x ./darknet"
   ]
  },
  {
   "cell_type": "code",
   "execution_count": null,
   "metadata": {
    "id": "A8OVVmnqZSNU"
   },
   "outputs": [],
   "source": [
    "!rm /content/darknet/build/darknet/x64/backup -r\n",
    "!rm /content/darknet/backup -r"
   ]
  },
  {
   "cell_type": "code",
   "execution_count": null,
   "metadata": {
    "id": "tKD0cmV_Zqig"
   },
   "outputs": [],
   "source": [
    "!ln -s /content/drive/'My Drive'/yolov4-cseg/backup /content/darknet/build/darknet/x64"
   ]
  },
  {
   "cell_type": "code",
   "execution_count": null,
   "metadata": {
    "colab": {
     "base_uri": "https://localhost:8080/",
     "height": 1000
    },
    "id": "4OcvsQDJZsh_",
    "outputId": "dc9c34f6-d4f5-4e2f-aa3d-a89ae0a7acb3"
   },
   "outputs": [],
   "source": [
    "% cd /content\n",
    "! darknet/darknet detector train darknet/build/darknet/x64/data/crnet.data darknet/build/darknet/x64/cfg/crnet.cfg darknet/build/darknet/x64/backup/crnet_last.weights -dont_show"
   ]
  }
 ],
 "metadata": {
  "accelerator": "GPU",
  "celltoolbar": "Raw Cell Format",
  "colab": {
   "name": "yolo-crnet",
   "provenance": []
  },
  "kernelspec": {
   "display_name": "Python 3",
   "language": "python",
   "name": "python3"
  },
  "language_info": {
   "codemirror_mode": {
    "name": "ipython",
    "version": 3
   },
   "file_extension": ".py",
   "mimetype": "text/x-python",
   "name": "python",
   "nbconvert_exporter": "python",
   "pygments_lexer": "ipython3",
   "version": "3.9.1"
  }
 },
 "nbformat": 4,
 "nbformat_minor": 1
}
